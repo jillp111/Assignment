{
 "cells": [
  {
   "cell_type": "code",
   "execution_count": 1,
   "id": "a8d28070",
   "metadata": {},
   "outputs": [],
   "source": [
    "###Module – 1 (SDLC)\n",
    "\n",
    "# What is Software?\n",
    "#Ans- a set of instructions, data or programs used to operate computers and execute specific tasks.\n",
    "\n",
    "# What are the types of Applications?\n",
    "#Ans- Database apps, Custom apps, Web-based apps, Low code apps, No code apps, Enterprise apps\n",
    "\n",
    "# What is programing?\n",
    "#Ans- process for telling a computer which tasks to perform in order to solve problems.\n",
    "\n",
    "# What is Python?\n",
    "#Ans-Python is an interpreted, object-oriented, high-level programming language with dynamic semantics"
   ]
  },
  {
   "cell_type": "code",
   "execution_count": 2,
   "id": "50fc2641",
   "metadata": {},
   "outputs": [],
   "source": [
    "###Module – 2 (Fundamentals of python)"
   ]
  },
  {
   "cell_type": "code",
   "execution_count": 5,
   "id": "59c5d088",
   "metadata": {},
   "outputs": [
    {
     "name": "stdout",
     "output_type": "stream",
     "text": [
      "Enter a number: 0\n",
      "Zero\n"
     ]
    }
   ],
   "source": [
    "# Write a Python program to check if a number is positive, negative or zero\n",
    "def what_Type(n):\n",
    "    if n>0:\n",
    "        print(\"Positive\")\n",
    "    elif n<0:\n",
    "        print(\"Negative\")\n",
    "    else:\n",
    "        print(\"Zero\")\n",
    "num=int(input(\"Enter a number: \"))\n",
    "what_Type(num)"
   ]
  },
  {
   "cell_type": "code",
   "execution_count": 6,
   "id": "89735157",
   "metadata": {},
   "outputs": [
    {
     "name": "stdout",
     "output_type": "stream",
     "text": [
      "Enter the number for factorial: 4\n",
      "24\n"
     ]
    }
   ],
   "source": [
    "#Write a Python program to get the Factorial number of given number\n",
    "import math\n",
    "fact=int(input(\"Enter the number for factorial: \"))\n",
    "factorial=math.factorial(fact)\n",
    "print(factorial)"
   ]
  },
  {
   "cell_type": "code",
   "execution_count": null,
   "id": "0f73d3e1",
   "metadata": {},
   "outputs": [],
   "source": [
    "#Write a Python program to get the Fibonacci series of given range\n"
   ]
  },
  {
   "cell_type": "code",
   "execution_count": 50,
   "id": "91c4ceb7",
   "metadata": {},
   "outputs": [],
   "source": [
    "#How is memory managed in python\n",
    "#Ans- Memory management in Python involves a private heap containing all Python objects and data structures. The management of this private heap is ensured internally by the Python memory manager. The Python memory manager has different components which deal with various dynamic storage management aspects, like sharing, segmentation, preallocation or caching."
   ]
  },
  {
   "cell_type": "code",
   "execution_count": 51,
   "id": "a9a37e38",
   "metadata": {},
   "outputs": [],
   "source": [
    "# What is the purpose continue statement in python?\n",
    "#Ans- It is used to skip the remaining code inside a loop for current iteration only."
   ]
  },
  {
   "cell_type": "code",
   "execution_count": 53,
   "id": "0f8941ea",
   "metadata": {},
   "outputs": [
    {
     "name": "stdout",
     "output_type": "stream",
     "text": [
      "Enter value of x: 2\n",
      "Enter value of y: 5\n",
      "x=5, y=2\n"
     ]
    }
   ],
   "source": [
    "#Write python program that swap two number with temp variable and without temp variable.\n",
    "x=int(input(\"Enter value of x: \"))\n",
    "y=int(input(\"Enter value of y: \"))\n",
    "x,y=y,x\n",
    "print(f\"x={x}, y={y}\")"
   ]
  },
  {
   "cell_type": "code",
   "execution_count": 56,
   "id": "5e3904a7",
   "metadata": {},
   "outputs": [
    {
     "name": "stdout",
     "output_type": "stream",
     "text": [
      "Enter the number: 12\n",
      "Entered num is even\n"
     ]
    }
   ],
   "source": [
    "#Write a Python program to find whether a given number is even or odd, print out an appropriate message to the user. \n",
    "def even_Odd(n):\n",
    "    if n%2==0:\n",
    "        print(\"Entered num is even\")\n",
    "    else:\n",
    "        print(\"Entered num is odd\")\n",
    "num=int(input(\"Enter the number: \"))\n",
    "even_Odd(num)"
   ]
  },
  {
   "cell_type": "code",
   "execution_count": 73,
   "id": "768ab142",
   "metadata": {},
   "outputs": [
    {
     "name": "stdout",
     "output_type": "stream",
     "text": [
      "Enter a letter: z\n",
      "Entered letter is not a vowel\n"
     ]
    }
   ],
   "source": [
    "#Write a Python program to test whether a passed letter is a vowel or not.\n",
    "def if_Vowel(letters):\n",
    "    is_vowel=False\n",
    "    ls=[\"a\",\"e\",\"i\",\"o\",\"u\"]\n",
    "    for i in ls:\n",
    "        if i==letters:\n",
    "            is_vowel=True\n",
    "    if is_vowel==True:\n",
    "        print(\"Entered letter is vowel\")\n",
    "    else:\n",
    "        print(\"Entered letter is not a vowel\")\n",
    "let=input(\"Enter a letter: \")\n",
    "if_Vowel(let)\n"
   ]
  },
  {
   "cell_type": "code",
   "execution_count": 75,
   "id": "b32c2ba0",
   "metadata": {},
   "outputs": [
    {
     "name": "stdout",
     "output_type": "stream",
     "text": [
      "0\n"
     ]
    }
   ],
   "source": [
    "#Write a Python program to sum of three given integers. However, if two values are equal sum will be zero.\n",
    "def add(x,y,z):\n",
    "    if x==y or x==z or y==z:\n",
    "        return 0\n",
    "    else:\n",
    "        return x+y+z\n",
    "result=add(2,2,3)\n",
    "print(result)"
   ]
  },
  {
   "cell_type": "code",
   "execution_count": 79,
   "id": "ae4f097f",
   "metadata": {},
   "outputs": [
    {
     "name": "stdout",
     "output_type": "stream",
     "text": [
      "True\n"
     ]
    }
   ],
   "source": [
    "#Write a Python program that will return true if the two given integer values are equal or their sum or difference is 5\n",
    "def num(x,y):\n",
    "    if x==y or x+y==5 or x-y==5:\n",
    "        return True\n",
    "    else:\n",
    "        return False\n",
    "result= num(6,1)\n",
    "print(result)"
   ]
  },
  {
   "cell_type": "code",
   "execution_count": 92,
   "id": "9554cc78",
   "metadata": {},
   "outputs": [
    {
     "name": "stdout",
     "output_type": "stream",
     "text": [
      "Enter the number:10\n",
      "55\n"
     ]
    }
   ],
   "source": [
    "# Write a python program to sum of the first n positive integers\n",
    "def summation(n):\n",
    "    add=0\n",
    "    for i in range(n+1):\n",
    "        add=add + i\n",
    "        i=i+1\n",
    "    print(add)\n",
    "result=int(input(\"Enter the number:\"))\n",
    "summation(result)\n",
    "        \n"
   ]
  },
  {
   "cell_type": "code",
   "execution_count": 93,
   "id": "2c2fe40d",
   "metadata": {},
   "outputs": [
    {
     "name": "stdout",
     "output_type": "stream",
     "text": [
      "10\n"
     ]
    }
   ],
   "source": [
    "#Write a Python program to calculate the length of a string\n",
    "string1=\"Jill Patel\"\n",
    "print(len(string1))"
   ]
  },
  {
   "cell_type": "code",
   "execution_count": 120,
   "id": "d111da13",
   "metadata": {},
   "outputs": [
    {
     "name": "stdout",
     "output_type": "stream",
     "text": [
      "Type a sentence: lkdfnsodgnosdrkfg\n",
      "{'l'} : {1}\n",
      "{'k'} : {2}\n",
      "{'d'} : {3}\n",
      "{'f'} : {2}\n",
      "{'n'} : {2}\n",
      "{'s'} : {2}\n",
      "{'o'} : {2}\n",
      "{'d'} : {3}\n",
      "{'g'} : {2}\n",
      "{'n'} : {2}\n",
      "{'o'} : {2}\n",
      "{'s'} : {2}\n",
      "{'d'} : {3}\n",
      "{'r'} : {1}\n",
      "{'k'} : {2}\n",
      "{'f'} : {2}\n",
      "{'g'} : {2}\n"
     ]
    }
   ],
   "source": [
    "#Write a Python program to count the number of characters (character frequency) in a string\n",
    "def count(string1):\n",
    "    for i in string1:\n",
    "        frequency=string1.count(i)\n",
    "        print({i}, \":\", {frequency})\n",
    "ss=input(\"Type a sentence: \")\n",
    "count(ss)"
   ]
  },
  {
   "cell_type": "code",
   "execution_count": 99,
   "id": "2b85a848",
   "metadata": {},
   "outputs": [],
   "source": [
    "#What are negative indexes and why are they used?\n",
    "#Ans-Negative indexing allows you to access elements of a sequence from the end, using negative numbers as indexes."
   ]
  },
  {
   "cell_type": "code",
   "execution_count": 116,
   "id": "d2ae7ee5",
   "metadata": {},
   "outputs": [
    {
     "name": "stdout",
     "output_type": "stream",
     "text": [
      "ll\n"
     ]
    }
   ],
   "source": [
    "#Write a Python program to count occurrences of a substring in a string.\n",
    "str1=\"hello,my name, is jill\"\n"
   ]
  },
  {
   "cell_type": "code",
   "execution_count": 123,
   "id": "6fb95266",
   "metadata": {},
   "outputs": [
    {
     "name": "stdout",
     "output_type": "stream",
     "text": [
      "Before swap: abc 123 \n",
      "After swap: 12c ab3 \n",
      "None\n"
     ]
    }
   ],
   "source": [
    "#Write a Python program to get a single string from two given strings, separated by a space and swap the first two characters of each string. \n",
    "def string_Swap(x,y):\n",
    "    print(f\"Before swap: {x} {y} \")\n",
    "    a1= y[:2]+x[2:]\n",
    "    b1= x[:2]+y[2:]\n",
    "    print(f\"After swap: {a1} {b1} \")\n",
    "res=string_Swap(\"abc\",\"123\")\n",
    "print(res)"
   ]
  },
  {
   "cell_type": "code",
   "execution_count": 173,
   "id": "d09aedaa",
   "metadata": {},
   "outputs": [
    {
     "name": "stdout",
     "output_type": "stream",
     "text": [
      "Type a word:liv\n",
      "living\n"
     ]
    }
   ],
   "source": [
    "#Write a Python program to add 'ing' at the end of a given string (length should be at least 3). If the given string already ends with 'ing' then add 'ly' instead if the string length of the given string is less than 3, leave it unchanged\n",
    "\n",
    "def  ing_ly(string1):\n",
    "        if string1.endswith('ing'):\n",
    "            print(string1+'ly')\n",
    "        else:\n",
    "            print(string1+'ing')\n",
    "res=input(str(\"Type a word:\"))\n",
    "ing_ly(res)"
   ]
  },
  {
   "cell_type": "code",
   "execution_count": 20,
   "id": "a1a5d894",
   "metadata": {},
   "outputs": [
    {
     "name": "stdout",
     "output_type": "stream",
     "text": [
      "['he', 'is', 'not', 'poor']\n"
     ]
    }
   ],
   "source": [
    "#Write a Python program to find the first appearance of the substring 'not' and 'poor' from a given string, if 'not' follows the 'poor', replace the whole 'not'...'poor' substring with 'good'. Return the resulting string.\n",
    "string='he is not poor'"
   ]
  },
  {
   "cell_type": "code",
   "execution_count": 149,
   "id": "f689f311",
   "metadata": {},
   "outputs": [
    {
     "name": "stdout",
     "output_type": "stream",
     "text": [
      "Type something: askjgfblejrkgb\n",
      "Type something again: asjgfapsofdgbpa\n",
      "Type something once more: alskjdgabsdjkfg\n",
      "{'alskjdgabsdjkfg'} is longest\n",
      "None\n"
     ]
    }
   ],
   "source": [
    "#Write a Python function that takes a list of words and returns the length of the longest one.\n",
    "def longest(a,b,c):\n",
    "    if len(a)>len(b) and len(a)>len(b):\n",
    "        print({a}, \"is longest\")\n",
    "    elif len(b)>len(a) and len(b)>len(c):\n",
    "        print({b}, \"is longest\")\n",
    "    else:\n",
    "        print({c}, \"is longest\")\n",
    "ls1=input(\"Type something: \")\n",
    "ls2=input(\"Type something again: \")\n",
    "ls3=input(\"Type something once more: \")\n",
    "res=longest(ls1,ls2,ls3)\n",
    "print(res)"
   ]
  },
  {
   "cell_type": "code",
   "execution_count": null,
   "id": "6ba6a173",
   "metadata": {},
   "outputs": [],
   "source": [
    "#Write a Python function to reverses a string if its length is a multiple of 4\n",
    "def a_Revstring(n):\n",
    "    while len(n)>1:\n",
    "        if len(n)%4==0:\n",
    "            return n[::-1]\n",
    "        else:\n",
    "            return \"Entered string NOT multiple of 4\"\n",
    "string1=input(\"Enter something: \")\n",
    "res=a_Revstring(string1)\n",
    "print(res)"
   ]
  },
  {
   "cell_type": "code",
   "execution_count": null,
   "id": "b1495f29",
   "metadata": {},
   "outputs": [],
   "source": [
    "#Write a Python program to get a string made of the first 2 and the last 2 chars from a given a string. If the string length is less than 2, return instead of the empty string. \n",
    "string1=input(\"Enter something: \")\n",
    "for _ in string1:\n",
    "  if len(string1)<3:\n",
    "    print(\"Enter more than two characters\")\n",
    "  else:\n",
    "    a1=string1[0:2]\n",
    "    b1=string1[-2:]\n",
    "    print(a1+b1)"
   ]
  },
  {
   "cell_type": "code",
   "execution_count": 1,
   "id": "1a922364",
   "metadata": {},
   "outputs": [
    {
     "name": "stdout",
     "output_type": "stream",
     "text": [
      "Enter something: jill is the best\n",
      "Enter something for middle: kkk\n",
      "New String:  jill is kkk the best\n"
     ]
    }
   ],
   "source": [
    "#Write a Python function to insert a string in the middle of a string. \n",
    "string1=input(\"Enter something: \")\n",
    "middlechar=input(\"Enter something for middle: \")\n",
    "formated=string1.split()\n",
    "mid_pos=len(formated)//2\n",
    "formated.insert(mid_pos,middlechar)\n",
    "print(\"New String: \", ' '.join(formated))"
   ]
  },
  {
   "cell_type": "code",
   "execution_count": 2,
   "id": "eb70b39e",
   "metadata": {},
   "outputs": [],
   "source": [
    "###Module – 3 (Collections, functions and Modules)"
   ]
  },
  {
   "cell_type": "code",
   "execution_count": 3,
   "id": "b380c119",
   "metadata": {},
   "outputs": [],
   "source": [
    "#What is List? How will you reverse a list? \n",
    "#Ans-They are mutable ordered sequence of elements and are defined by having values between []brackets.We can reverse a list using slicing([::-1]) or by using .reverse() method"
   ]
  },
  {
   "cell_type": "code",
   "execution_count": 4,
   "id": "9ed1a876",
   "metadata": {},
   "outputs": [],
   "source": [
    "#How will you remove last object from a list? Suppose list1 is [2, 33, 222, 14, and 25], what is list1 [-1]?\n",
    "\n",
    "#Ans- we can you list1.pop(4), list1 [-1] will print the last object from the list"
   ]
  },
  {
   "cell_type": "code",
   "execution_count": 5,
   "id": "1a64d8b3",
   "metadata": {},
   "outputs": [],
   "source": [
    "#Differentiate between append () and extend () methods? \n",
    "\n",
    "#Ans- append() adds a single element to the end of the list while extend() adds multiple elements from an iterable to the list"
   ]
  },
  {
   "cell_type": "code",
   "execution_count": 6,
   "id": "f6c44754",
   "metadata": {},
   "outputs": [
    {
     "name": "stdout",
     "output_type": "stream",
     "text": [
      "Enter a number: 1\n",
      "Enter a number: 2\n",
      "Enter a number: 3\n",
      "3 is the largest number\n",
      "1 is the smallest number\n",
      "Sum of numbers is: 6\n",
      "None\n"
     ]
    }
   ],
   "source": [
    "#Write a Python function to get the largest number, smallest num and sum of all from a list.\n",
    "def ls_S(x,y,z):\n",
    "  if x>y and x>z:\n",
    "    print(f\"{x} is largest number\")\n",
    "  if y>x and y>z:\n",
    "    print(f\"{y} is the largest number\")\n",
    "  if z>x and z>y:\n",
    "    print(f\"{z} is the largest number\")\n",
    "  if x<y and x<z:\n",
    "    print(f\"{x} is the smallest number\")\n",
    "  if y<x and y<z:\n",
    "    print(f\"{y} is the smallest number\")\n",
    "  if z<x and z<y:\n",
    "    print(f\"{z} is the smallest number\")\n",
    "  sum=x+y+z\n",
    "  print(f\"Sum of numbers is: {sum}\")\n",
    "a=int(input(\"Enter a number: \"))\n",
    "b=int(input(\"Enter a number: \"))  \n",
    "c=int(input(\"Enter a number: \"))  \n",
    "res=ls_S(a,b,c)\n",
    "print(res)"
   ]
  },
  {
   "cell_type": "code",
   "execution_count": 7,
   "id": "72345cd8",
   "metadata": {},
   "outputs": [],
   "source": [
    "#How will you compare two lists? \n",
    "#Ans- we can use == operator"
   ]
  },
  {
   "cell_type": "code",
   "execution_count": 8,
   "id": "9ede7ecb",
   "metadata": {},
   "outputs": [
    {
     "name": "stdout",
     "output_type": "stream",
     "text": [
      "Total strings: 4\n",
      "Number of strings with same first and last characters: 3\n"
     ]
    }
   ],
   "source": [
    "#Write a Python program to count the number of strings where the string length is 2 or more and the first and last character are same from a given list of strings\n",
    "a=['5505','abcde','1211','bccb']\n",
    "ch=0\n",
    "for i in a:\n",
    "    if len(a)>1 and i[0]==i[-1]:\n",
    "      ch+=1\n",
    "total_strings=len(a)\n",
    "print(f\"Total strings: {total_strings}\")\n",
    "print(f\"Number of strings with same first and last characters: {ch}\")"
   ]
  },
  {
   "cell_type": "code",
   "execution_count": 10,
   "id": "09b8e293",
   "metadata": {},
   "outputs": [
    {
     "name": "stdout",
     "output_type": "stream",
     "text": [
      "{1, 2, 3, 4, 'a', 'c'}\n"
     ]
    }
   ],
   "source": [
    "#Write a Python program to remove duplicates from a list\n",
    "ls=[1,2,3,4,4,'a','a','a']\n",
    "for i in ls:\n",
    "  if ls.count(i)>1:\n",
    "    ls.remove(i)\n",
    "    print()\n",
    "print(ls)"
   ]
  },
  {
   "cell_type": "code",
   "execution_count": 22,
   "id": "2be6cb6f",
   "metadata": {},
   "outputs": [
    {
     "name": "stdout",
     "output_type": "stream",
     "text": [
      "Enter something: 'afas','afaf','123'\n",
      "Not Empty list\n"
     ]
    }
   ],
   "source": [
    "#Write a Python program to check a list is empty or not.\n",
    "def check_List(n):\n",
    "  if len(n) > 0:\n",
    "      print(\"Not Empty list\")\n",
    "  else:\n",
    "      print(\"Empty list\")\n",
    "ls = input(\"Enter something: \")\n",
    "check_List(ls)\n",
    "      "
   ]
  },
  {
   "cell_type": "code",
   "execution_count": 41,
   "id": "9e99e99a",
   "metadata": {},
   "outputs": [
    {
     "name": "stdout",
     "output_type": "stream",
     "text": [
      "Enter the num of elements for list 1: 2\n",
      "Enter element: 1\n",
      "Enter element: 22\n",
      "Enter the num of elements for list 2: 3\n",
      "Enter element: 4\n",
      "Enter element: 5\n",
      "Enter element: 1\n",
      "Elements of list 1: ['1', '22']\n",
      "Elements of list 2: ['4', '5', '1']\n",
      "True\n"
     ]
    }
   ],
   "source": [
    "#Write a Python function that takes two lists and returns true if they have at least one common member\n",
    "ls1=[]\n",
    "ls2=[]\n",
    "n1=int(input(\"Enter the num of elements for list 1: \"))\n",
    "for i in range(0,n1):\n",
    "    elements=input(\"Enter element: \")\n",
    "    ls1.append(elements)\n",
    "\n",
    "n2=int(input(\"Enter the num of elements for list 2: \"))\n",
    "for i in range(0,n2):\n",
    "    elements=input(\"Enter element: \")\n",
    "    ls2.append(elements)\n",
    "    \n",
    "print(f\"Elements of list 1: {ls1}\")\n",
    "\n",
    "print(f\"Elements of list 2: {ls2}\")\n",
    "\n",
    "same_elements=False\n",
    "for i in ls1:\n",
    "    if i in ls2:\n",
    "        same_elements=True\n",
    "print(same_elements)"
   ]
  },
  {
   "cell_type": "code",
   "execution_count": 20,
   "id": "cb5dbc0a",
   "metadata": {},
   "outputs": [
    {
     "name": "stdout",
     "output_type": "stream",
     "text": [
      "100\n"
     ]
    }
   ],
   "source": [
    "#Write a Python program to generate and print a list of first and last 5 elements where the values are square of numbers between 1 and 30.\n"
   ]
  },
  {
   "cell_type": "code",
   "execution_count": 49,
   "id": "6c66f8d7",
   "metadata": {},
   "outputs": [
    {
     "name": "stdout",
     "output_type": "stream",
     "text": [
      "Enter the num of elements for list : 5\n",
      "Enter element: 4\n",
      "Enter element: 4\n",
      "Enter element: 3\n",
      "Enter element: 1\n",
      "Enter element: 1\n",
      "Elements of list: ['4', '4', '3', '1', '1']\n",
      "\n",
      "\n",
      "New list with unique elements: ['1', '3', '4']\n"
     ]
    }
   ],
   "source": [
    "#Write a Python function that takes a list and returns a new list with unique elements of the first list\n",
    "ls1=[]\n",
    "ls2=[]\n",
    "n1=int(input(\"Enter the num of elements for list : \"))\n",
    "for i in range(0,n1):\n",
    "    elements=input(\"Enter element: \")\n",
    "    ls1.append(elements)\n",
    "print(f\"Elements of list: {ls1}\")\n",
    "for i in ls1:\n",
    "  if ls1.count(i)>1:\n",
    "    ls1.remove(i)\n",
    "    print()\n",
    "print(f\"New list with unique elements: {ls1}\")"
   ]
  },
  {
   "cell_type": "code",
   "execution_count": 56,
   "id": "105dfc35",
   "metadata": {},
   "outputs": [
    {
     "data": {
      "text/plain": [
       "'jillpatel'"
      ]
     },
     "execution_count": 56,
     "metadata": {},
     "output_type": "execute_result"
    }
   ],
   "source": [
    "#Write a Python program to convert a list of characters into a string\n",
    "ls=['j','i','l','l','p','a','t','e','l']\n",
    "str=''\n",
    "str.join(ls)"
   ]
  },
  {
   "cell_type": "code",
   "execution_count": 61,
   "id": "53070388",
   "metadata": {},
   "outputs": [
    {
     "name": "stdout",
     "output_type": "stream",
     "text": [
      "3\n"
     ]
    }
   ],
   "source": [
    "#Write a Python program to select an item randomly from a list.\n",
    "import random\n",
    "ls=[1,2,3,4,5,6]\n",
    "print(random.choice(ls))"
   ]
  },
  {
   "cell_type": "code",
   "execution_count": 74,
   "id": "961102d3",
   "metadata": {},
   "outputs": [
    {
     "name": "stdout",
     "output_type": "stream",
     "text": [
      "Second smallest number is: 3\n"
     ]
    }
   ],
   "source": [
    "#Write a Python program to find the second smallest number in a list.\n",
    "ls=[5,3,5,7,8,4,1]\n",
    "ls.sort()\n",
    "res=ls[1]\n",
    "print(f\"Second smallest number is: {res}\")"
   ]
  },
  {
   "cell_type": "code",
   "execution_count": 33,
   "id": "91921a97",
   "metadata": {},
   "outputs": [
    {
     "name": "stdout",
     "output_type": "stream",
     "text": [
      "4\n"
     ]
    }
   ],
   "source": [
    "#Write a Python program to check whether a list contains a sub list"
   ]
  },
  {
   "cell_type": "code",
   "execution_count": 37,
   "id": "95f2e946",
   "metadata": {},
   "outputs": [
    {
     "name": "stdout",
     "output_type": "stream",
     "text": [
      "original string= [1, 2, 3, 4, 5, 6]\n",
      "1 2 3 4 5 6 "
     ]
    }
   ],
   "source": [
    "#Write a Python program to split a list into different variables\n",
    "ls=[1,2,3,4,5,6]\n",
    "print(f\"original string= {ls}\")\n",
    "for i in ls:\n",
    "    print( i , end=\" \")"
   ]
  },
  {
   "cell_type": "code",
   "execution_count": 38,
   "id": "ce0a5813",
   "metadata": {},
   "outputs": [],
   "source": [
    "#What is tuple? Difference between list and tuple.\n",
    "#Ans- Tuple is a collection of ordered items that are unchangeble and allows duplicate values and are defiend by using rounded brackets'()'.\n",
    "      # Unlike lists, tuples are immutable and are fixed in length."
   ]
  },
  {
   "cell_type": "code",
   "execution_count": 41,
   "id": "46d7077a",
   "metadata": {},
   "outputs": [
    {
     "ename": "TypeError",
     "evalue": "'float' object is not iterable",
     "output_type": "error",
     "traceback": [
      "\u001b[1;31m---------------------------------------------------------------------------\u001b[0m",
      "\u001b[1;31mTypeError\u001b[0m                                 Traceback (most recent call last)",
      "Cell \u001b[1;32mIn[41], line 5\u001b[0m\n\u001b[0;32m      3\u001b[0m a\u001b[38;5;241m=\u001b[39m\u001b[38;5;241m5\u001b[39m\n\u001b[0;32m      4\u001b[0m b\u001b[38;5;241m=\u001b[39m\u001b[38;5;28;01mTrue\u001b[39;00m\n\u001b[1;32m----> 5\u001b[0m \u001b[38;5;28mprint\u001b[39m(\u001b[38;5;28mtuple\u001b[39m(y))\n",
      "\u001b[1;31mTypeError\u001b[0m: 'float' object is not iterable"
     ]
    }
   ],
   "source": [
    "#Write a Python program to create a tuple with different data types.\n",
    "x='tutor'\n",
    "y=0.5\n",
    "a=5\n",
    "b=True\n",
    "print(tuple(x), end=\" \")\n",
    "print(tuple((y,' ')))\n",
    "print(tuple(str(a)))\n",
    "print(tuple(str(b)))\n"
   ]
  },
  {
   "cell_type": "code",
   "execution_count": 21,
   "id": "760ea970",
   "metadata": {},
   "outputs": [
    {
     "name": "stdout",
     "output_type": "stream",
     "text": [
      "(1, 2, 3, 4, 5)\n"
     ]
    }
   ],
   "source": [
    "#Write a program to create a tuple with numbers\n",
    "numbers=[1,2,3,4,5]\n",
    "k=tuple(map(int,numbers))\n",
    "print(k)\n",
    "\n"
   ]
  },
  {
   "cell_type": "code",
   "execution_count": 23,
   "id": "e52a2395",
   "metadata": {},
   "outputs": [
    {
     "name": "stdout",
     "output_type": "stream",
     "text": [
      "('1', '2', '3', '4', '5')\n"
     ]
    }
   ],
   "source": [
    "#Write a Python program to convert a tuple to a string.\n",
    "numbers=(1, 2, 3, 4, 5)\n",
    "k=tuple(map(str,numbers))\n",
    "print(k)\n"
   ]
  },
  {
   "cell_type": "code",
   "execution_count": 63,
   "id": "4c17e6a8",
   "metadata": {},
   "outputs": [
    {
     "name": "stdout",
     "output_type": "stream",
     "text": [
      "Enter the element: b\n",
      "b is present\n"
     ]
    }
   ],
   "source": [
    "#write a Python program to check whether an element exists within a tuple.\n",
    "tup1=(1,2,3,4,5,'a','b')\n",
    "tup2=(tuple(map(str,tup1)))\n",
    "res=input(\"Enter the element: \")\n",
    "if res in tup2:\n",
    "    print(f\"{res} is present\")\n",
    "else:\n",
    "    print(f\"{res} is absent\")"
   ]
  },
  {
   "cell_type": "code",
   "execution_count": 29,
   "id": "9185f912",
   "metadata": {},
   "outputs": [
    {
     "name": "stdout",
     "output_type": "stream",
     "text": [
      "5\n"
     ]
    }
   ],
   "source": [
    "#Write a Python program to find the length of a tuple.\n",
    "tup1=(1,2,3,'a','b')\n",
    "print(len(tup1))"
   ]
  },
  {
   "cell_type": "code",
   "execution_count": 42,
   "id": "8a53b17d",
   "metadata": {},
   "outputs": [
    {
     "name": "stdout",
     "output_type": "stream",
     "text": [
      "('1', '2', '3', 'a', 'b')\n"
     ]
    }
   ],
   "source": [
    "#Write a Python program to convert a list to a tuple\n",
    "ls=[1,2,3,'a','b']\n",
    "res=tuple(map(str,ls))\n",
    "print(res)\n"
   ]
  },
  {
   "cell_type": "code",
   "execution_count": 33,
   "id": "30f0f914",
   "metadata": {},
   "outputs": [
    {
     "name": "stdout",
     "output_type": "stream",
     "text": [
      "('b', 'a', 3, 2, 1)\n"
     ]
    }
   ],
   "source": [
    "#Write a Python program to reverse a tuple.\n",
    "tups=(1, 2, 3, 'a', 'b')\n",
    "print(tups[::-1])"
   ]
  },
  {
   "cell_type": "code",
   "execution_count": 65,
   "id": "b9a49bdc",
   "metadata": {},
   "outputs": [
    {
     "name": "stdout",
     "output_type": "stream",
     "text": [
      "[(1, 2, 10), (4, 5, 10), (7, 8, 10)]\n"
     ]
    }
   ],
   "source": [
    "#Write a Python program to replace last value of tuples in a list\n",
    "ls=[(1,2,3),(4,5,6),(7,8,9)]\n",
    "print([i[:-1]+(10,) for i in ls])\n"
   ]
  },
  {
   "cell_type": "code",
   "execution_count": 74,
   "id": "268757ed",
   "metadata": {},
   "outputs": [
    {
     "data": {
      "text/plain": [
       "{1, 9, 'a', 'b', 'n'}"
      ]
     },
     "execution_count": 74,
     "metadata": {},
     "output_type": "execute_result"
    }
   ],
   "source": [
    "#Write a Python program to find the repeated items of a tuple\n",
    "tup=('a','a','b','b','c','d',1,1,9,9,'n','n')\n",
    "set(filter(lambda i: tup.count(i)>1,tup))"
   ]
  },
  {
   "cell_type": "code",
   "execution_count": 65,
   "id": "48a46663",
   "metadata": {},
   "outputs": [
    {
     "name": "stdout",
     "output_type": "stream",
     "text": [
      "[(4, 5, 6), (7, 8, 9), (99, 1, 0)]\n"
     ]
    }
   ],
   "source": [
    "#Write a Python program to remove an empty tuple(s) from a list of tuples\n",
    "ls=[(),(4,5,6),(7,8,9),(),(99,1,0),()]\n",
    "for i in ls:\n",
    "    if i==():\n",
    "        ls.remove(i)\n",
    "print(ls)"
   ]
  },
  {
   "cell_type": "code",
   "execution_count": 105,
   "id": "3ec9b09c",
   "metadata": {},
   "outputs": [
    {
     "name": "stdout",
     "output_type": "stream",
     "text": [
      "[1, 2, 3]\n",
      "[4, 5, 6]\n",
      "[7, 8, 9]\n"
     ]
    }
   ],
   "source": [
    "#Write a Python program to unzip a list of tuples into individual lists.\n",
    "ls=[(1,2,3),(4,5,6),(7,8,9)]\n",
    "for i in ls:\n",
    "    print(list(i))"
   ]
  },
  {
   "cell_type": "code",
   "execution_count": 131,
   "id": "0a0de38b",
   "metadata": {},
   "outputs": [
    {
     "name": "stdout",
     "output_type": "stream",
     "text": [
      "{1: (1, 2, 3)} {2: (4, 5, 6)} {3: (7, 8, 9)} "
     ]
    }
   ],
   "source": [
    "#Write a Python program to convert a list of tuples into a dictionary\n",
    "ls=[(1,2,3),(4,5,6),(7,8,9)]\n",
    "keys=1\n",
    "for i in ls:\n",
    "    dic={keys:i}\n",
    "    keys=keys+1\n",
    "    print(dic, end=\" \")"
   ]
  },
  {
   "cell_type": "code",
   "execution_count": 78,
   "id": "0d86cf93",
   "metadata": {},
   "outputs": [
    {
     "name": "stdout",
     "output_type": "stream",
     "text": [
      "{1: 'a'} {2: 'b'} {3: 'c'} {4: 'd'} "
     ]
    },
    {
     "ename": "IndexError",
     "evalue": "tuple index out of range",
     "output_type": "error",
     "traceback": [
      "\u001b[1;31m---------------------------------------------------------------------------\u001b[0m",
      "\u001b[1;31mIndexError\u001b[0m                                Traceback (most recent call last)",
      "Cell \u001b[1;32mIn[78], line 5\u001b[0m\n\u001b[0;32m      3\u001b[0m b\u001b[38;5;241m=\u001b[39m(\u001b[38;5;124m'\u001b[39m\u001b[38;5;124ma\u001b[39m\u001b[38;5;124m'\u001b[39m,\u001b[38;5;124m'\u001b[39m\u001b[38;5;124mb\u001b[39m\u001b[38;5;124m'\u001b[39m,\u001b[38;5;124m'\u001b[39m\u001b[38;5;124mc\u001b[39m\u001b[38;5;124m'\u001b[39m,\u001b[38;5;124m'\u001b[39m\u001b[38;5;124md\u001b[39m\u001b[38;5;124m'\u001b[39m)\n\u001b[0;32m      4\u001b[0m \u001b[38;5;28;01mfor\u001b[39;00m i \u001b[38;5;129;01min\u001b[39;00m \u001b[38;5;28mrange\u001b[39m(\u001b[38;5;241m0\u001b[39m,\u001b[38;5;241m5\u001b[39m):\n\u001b[1;32m----> 5\u001b[0m   res\u001b[38;5;241m=\u001b[39m{a[i]:b[i]}\n\u001b[0;32m      6\u001b[0m   \u001b[38;5;28mprint\u001b[39m(res,end\u001b[38;5;241m=\u001b[39m\u001b[38;5;124m'\u001b[39m\u001b[38;5;124m \u001b[39m\u001b[38;5;124m'\u001b[39m)\n\u001b[0;32m      7\u001b[0m \u001b[38;5;28;01mbreak\u001b[39;00m\n",
      "\u001b[1;31mIndexError\u001b[0m: tuple index out of range"
     ]
    }
   ],
   "source": [
    "#How will you create a dictionary using tuples in python\n",
    "a=(1,2,3,4)\n",
    "b=('a','b','c','d')\n",
    "for i in range(0,5):\n",
    "  res={a[i]:b[i]}\n",
    "  print(res,end=' ')"
   ]
  },
  {
   "cell_type": "code",
   "execution_count": 93,
   "id": "8df9c614",
   "metadata": {},
   "outputs": [
    {
     "name": "stdout",
     "output_type": "stream",
     "text": [
      "{'d': 0, 'a': 1, 'b': 2, 'c': 4}\n",
      "{'c': 4, 'b': 2, 'a': 1, 'd': 0}\n"
     ]
    }
   ],
   "source": [
    "#Write a Python script to sort (ascending and descending) a dictionary by \n",
    "dic={'a':1,'c':4,'b':2,'d':0}\n",
    "a=dict(sorted(dic.items(),key=lambda item: item[1]))\n",
    "b=dict(reversed(sorted(dic.items(), key=lambda item: item[1])))\n",
    "print(a)\n",
    "print(b)"
   ]
  },
  {
   "cell_type": "code",
   "execution_count": null,
   "id": "794a6565",
   "metadata": {},
   "outputs": [],
   "source": [
    "#Write a Python script to concatenate following dictionaries to create a new one. "
   ]
  },
  {
   "cell_type": "code",
   "execution_count": 12,
   "id": "c28fb96d",
   "metadata": {},
   "outputs": [
    {
     "name": "stdout",
     "output_type": "stream",
     "text": [
      "Enter the key you want to check: 1\n",
      "key 1 is not present\n"
     ]
    }
   ],
   "source": [
    "#Write a Python script to check if a given key already exists in a dictionary\n",
    "dic={'a':1,'b':2,'c':3}\n",
    "k=input(\"Enter the key you want to check: \")\n",
    "if k in dic.keys():\n",
    "    print(f\"Key {k} is present\")\n",
    "else:\n",
    "    print(f\"key {k} is not present\")"
   ]
  },
  {
   "cell_type": "code",
   "execution_count": 13,
   "id": "fddbc63e",
   "metadata": {},
   "outputs": [],
   "source": [
    "#How Do You Traverse Through A Dictionary Object In Python? \n",
    "#Ans- using DICTIONARY.items() we can traverse through an object, we can also use .keys()/.values() to get the keys/values of the object of interest."
   ]
  },
  {
   "cell_type": "code",
   "execution_count": 14,
   "id": "c63dc43d",
   "metadata": {},
   "outputs": [],
   "source": [
    "#How Do You Check The Presence Of A Key In A Dictionary?\n",
    "#Ans- using .keys() method"
   ]
  },
  {
   "cell_type": "code",
   "execution_count": 21,
   "id": "72a114ff",
   "metadata": {},
   "outputs": [
    {
     "name": "stdout",
     "output_type": "stream",
     "text": [
      "1\n",
      "9\n",
      "6\n",
      "14\n"
     ]
    }
   ],
   "source": [
    "#Write a Python script to print a dictionary where the keys are numbers between 1 and 15.\n",
    "dic={1:'a',16:'b',9:'c',6:'d',14:'e'}\n",
    "for i in dic.keys():\n",
    "  if i in range(0,16):\n",
    "    print(i)"
   ]
  },
  {
   "cell_type": "code",
   "execution_count": 115,
   "id": "4fdbd165",
   "metadata": {},
   "outputs": [
    {
     "name": "stdout",
     "output_type": "stream",
     "text": [
      "True\n",
      "True\n"
     ]
    }
   ],
   "source": [
    "#Write a Python program to check multiple keys exists in a dictionary\n",
    "dic={1:'a',16:'b',9:'c',6:'d',14:'e'}\n",
    "print(dic.keys()>={1,16})\n",
    "print(dic.keys()>={9})"
   ]
  },
  {
   "cell_type": "code",
   "execution_count": 191,
   "id": "39c0a5e1",
   "metadata": {},
   "outputs": [
    {
     "name": "stdout",
     "output_type": "stream",
     "text": [
      "{'a': 1, 'b': 2, 'c': 3, 'd': 4}\n"
     ]
    }
   ],
   "source": [
    "#Write a Python script to merge two Python dictionaries \n",
    "dic={'a':1,'b':2}\n",
    "dic2={'c':3,'d':4}\n",
    "merge=dic.update(dic2)\n",
    "print(dic)"
   ]
  },
  {
   "cell_type": "code",
   "execution_count": 190,
   "id": "ecc859fc",
   "metadata": {},
   "outputs": [
    {
     "name": "stdout",
     "output_type": "stream",
     "text": [
      "{1: 'a', 2: 'b', 3: 'c', 4: 'd', 5: 'e'}\n"
     ]
    }
   ],
   "source": [
    "#Write a Python program to map two lists into a dictionary \n",
    "keys=[1,2,3,4,5]\n",
    "values=['a','b','c','d','e']\n",
    "dic=dict(zip(keys,values))\n",
    "print(dic)"
   ]
  },
  {
   "cell_type": "code",
   "execution_count": 196,
   "id": "05bcf3a7",
   "metadata": {},
   "outputs": [
    {
     "name": "stdout",
     "output_type": "stream",
     "text": [
      "Counter({'a': 400, 'b': 400, 'd': 400, 'c': 300})\n"
     ]
    }
   ],
   "source": [
    "#Write a Python program to combine two dictionary adding values for common keys.\n",
    "from collections import Counter\n",
    "d1 = {'a': 100, 'b': 200, 'c':300} \n",
    "d2 = {'a': 300, 'b': 200,'d':400}\n",
    "d3=Counter(d2)+Counter(d1)\n",
    "print(d3)"
   ]
  },
  {
   "cell_type": "code",
   "execution_count": 13,
   "id": "9272b636",
   "metadata": {},
   "outputs": [
    {
     "name": "stdout",
     "output_type": "stream",
     "text": [
      "{1, 2, 4}\n"
     ]
    }
   ],
   "source": [
    "#Write a Python program to print all unique values in a dictionary\n",
    "d1={'a':2,'b':2,'c':1,'d':4}\n",
    "for i in d1.values():\n",
    "    set1=set(d1.values())\n",
    "print(set1)"
   ]
  },
  {
   "cell_type": "code",
   "execution_count": 14,
   "id": "d93adfa0",
   "metadata": {},
   "outputs": [],
   "source": [
    "#Why Do You Use the Zip () Method in Python?\n",
    "#Ans- to combine two or more iterable dictionaries into a single iterable, where corresponding elements from the input iterable are paired together as tuples. When using zip() with dictionaries, it pairs the keys and values of the dictionaries based on their position in the dictionary."
   ]
  },
  {
   "cell_type": "code",
   "execution_count": 14,
   "id": "316d28b2",
   "metadata": {},
   "outputs": [
    {
     "name": "stdout",
     "output_type": "stream",
     "text": [
      "[(['a', 'b'], ['c', 'd'])]"
     ]
    }
   ],
   "source": [
    "#Write a Python program to create and display all combinations of letters, selecting each letter from a different key in a dictionary. Sample data: {'1': ['a','b'], '2': ['c','d']} Expected Output:ac ad bc bd\n",
    "from itertools import combinations\n",
    "dic1={'1': ['a','b'], '2': ['c','d']}\n",
    "com = combinations(dic1.values(),2)\n",
    "print(list(com),end=\"\")\n"
   ]
  },
  {
   "cell_type": "code",
   "execution_count": 21,
   "id": "48c25685",
   "metadata": {},
   "outputs": [
    {
     "name": "stdout",
     "output_type": "stream",
     "text": [
      "(10, 3, 5)\n"
     ]
    }
   ],
   "source": [
    "#Write a Python program to find the highest 3 values in a dictionary\n",
    "d1={'a':1,'b':2,'c':3,'d':4,'e':5,'f':3,'g':10}\n",
    "ls=[]\n",
    "for i in d1.values():\n",
    "    ls.append(i)\n",
    "res=sorted(ls)\n",
    "values=ls[-1],ls[-2],ls[-3]\n",
    "print(values)"
   ]
  },
  {
   "cell_type": "code",
   "execution_count": 1,
   "id": "7e1a05a2",
   "metadata": {},
   "outputs": [
    {
     "name": "stdout",
     "output_type": "stream",
     "text": [
      "{'item': 'item1item2item1', 'amount': 1450}\n"
     ]
    }
   ],
   "source": [
    "#****Write a Python program to combine values in python list of dictionaries\n",
    "dic=[{'item': 'item1', 'amount': 400}, {'item': 'item2', 'amount': 300}, {'item': 'item1', 'amount': 750}]\n",
    "res={}\n",
    "for dict in dic:\n",
    "    for list in dict:\n",
    "        if list in res:\n",
    "            res[list]+=(dict[list])\n",
    "        else:\n",
    "            res[list]=dict[list]\n",
    "print(res)"
   ]
  },
  {
   "cell_type": "code",
   "execution_count": 5,
   "id": "22999fad",
   "metadata": {},
   "outputs": [
    {
     "name": "stdout",
     "output_type": "stream",
     "text": [
      "{'w': 1, '3': 1, 'r': 2, 'e': 2, 's': 1, 'o': 1, 'u': 1, 'c': 1}\n"
     ]
    }
   ],
   "source": [
    "#Write a Python program to create a dictionary from a string.Track the count of the letters from the string.\n",
    "dic='w3resource'\n",
    "freq={}\n",
    "d=dic.split()\n",
    "for i in dic:\n",
    "    freq[i]=dic.count(i)\n",
    "print(dict(freq))"
   ]
  },
  {
   "cell_type": "code",
   "execution_count": 3,
   "id": "b2e0b036",
   "metadata": {},
   "outputs": [
    {
     "name": "stdout",
     "output_type": "stream",
     "text": [
      "Enter the number for factorial: 4\n",
      "24\n"
     ]
    }
   ],
   "source": [
    "#Write a Python function to calculate the factorial of a number (a nonnegative integer)\n",
    "import math\n",
    "fact=int(input(\"Enter the number for factorial: \"))\n",
    "factorial=math.factorial(fact)\n",
    "print(factorial)"
   ]
  },
  {
   "cell_type": "code",
   "execution_count": 7,
   "id": "04861a36",
   "metadata": {},
   "outputs": [
    {
     "name": "stdout",
     "output_type": "stream",
     "text": [
      "Enter a number between 1 -100 range: 500\n",
      "Entered number 500 is not in the range\n"
     ]
    }
   ],
   "source": [
    "#Write a Python function to check whether a number is in a given range\n",
    "num=int(input(\"Enter a number between 1 -100 range: \"))\n",
    "if num in range(0,101):\n",
    "    print(f\"Entered number {num} is in the range\")\n",
    "else:\n",
    "    print(f\"Entered number {num} is not in the range\")"
   ]
  },
  {
   "cell_type": "code",
   "execution_count": 8,
   "id": "8bdf6ea9",
   "metadata": {},
   "outputs": [
    {
     "name": "stdout",
     "output_type": "stream",
     "text": [
      "Enter a number to check if it is perfect: 23\n",
      "False\n"
     ]
    }
   ],
   "source": [
    "#Write a Python function to check whether a number is perfect or not.\n",
    "def perfect_Number(n):\n",
    "    sum=0\n",
    "    for x in range(1,n):\n",
    "        if n%x==0:\n",
    "            sum+=x\n",
    "    return sum == n\n",
    "per=int(input(\"Enter a number to check if it is perfect: \"))\n",
    "print(perfect_Number(per))"
   ]
  },
  {
   "cell_type": "code",
   "execution_count": 9,
   "id": "5b0fb0ce",
   "metadata": {},
   "outputs": [
    {
     "name": "stdout",
     "output_type": "stream",
     "text": [
      "Enter the number: 121\n",
      "Palindrome\n"
     ]
    }
   ],
   "source": [
    "#Write a Python function that checks whether a passed string is palindrome or not\n",
    "num= int(input(\"Enter the number: \"))\n",
    "temp= num\n",
    "rev=0\n",
    "while (num>0):\n",
    "    rem = num % 10\n",
    "    rev = rev*10 + rem\n",
    "    num = num // 10\n",
    "if (temp==rev):\n",
    "    print(\"Palindrome\")\n",
    "else:\n",
    "    print(\"not palindrome\")"
   ]
  },
  {
   "cell_type": "code",
   "execution_count": 10,
   "id": "7698c8c6",
   "metadata": {},
   "outputs": [],
   "source": [
    "#How Many Basic Types Of Functions Are Available In Python?\n",
    "#Ans-Built-in Functions or Pre-defined and User-defined Functions"
   ]
  },
  {
   "cell_type": "code",
   "execution_count": 11,
   "id": "eb87a1ca",
   "metadata": {},
   "outputs": [],
   "source": [
    "#How can you pick a random item from a list or tuple? \n",
    "#Ans-Import keyword to import the random module(used to generate random integers.Generate a random item from the tuple using random.choice() method"
   ]
  },
  {
   "cell_type": "code",
   "execution_count": 12,
   "id": "44bdcea9",
   "metadata": {},
   "outputs": [],
   "source": [
    "#How can you pick a random item from a range? \n",
    "#Ans-Using random.randrange() function"
   ]
  },
  {
   "cell_type": "code",
   "execution_count": 13,
   "id": "673aaf3d",
   "metadata": {},
   "outputs": [],
   "source": [
    "#How can you get a random number in python? \n",
    "#Ans-You can use random. randint(a, b)"
   ]
  },
  {
   "cell_type": "code",
   "execution_count": 14,
   "id": "68c4c613",
   "metadata": {},
   "outputs": [],
   "source": [
    "#How will you set the starting value in generating random numbers?\n",
    "#Ans-The seed() method is used to initialize the random number generator.The random number generator needs a number to start with (a seed value), to be able to generate a random number."
   ]
  },
  {
   "cell_type": "code",
   "execution_count": 15,
   "id": "66c11611",
   "metadata": {},
   "outputs": [],
   "source": [
    "#How will you randomizes the items of a list in place?\n",
    "#Ans-The shuffle() method in the random module is used to shuffle a list. It takes a sequence, such as a list, and reorganizes the order of the items.This shuffle() method changes the original list, it does not return a new list."
   ]
  },
  {
   "cell_type": "code",
   "execution_count": 1,
   "id": "0e86239d",
   "metadata": {},
   "outputs": [],
   "source": [
    "#Write a Python program to read a random line from a file.\n"
   ]
  },
  {
   "cell_type": "code",
   "execution_count": 13,
   "id": "6047a2d3",
   "metadata": {},
   "outputs": [
    {
     "name": "stdout",
     "output_type": "stream",
     "text": [
      "Enter the degree to convert to radian: 90\n",
      "1.5714285714285714\n"
     ]
    }
   ],
   "source": [
    "#Write a Python program to convert degree to radian\n",
    "pi=22/7\n",
    "degree=float(input(\"Enter the degree to convert to radian: \"))\n",
    "rad=degree*(pi/180)\n",
    "print(rad)"
   ]
  },
  {
   "cell_type": "code",
   "execution_count": 15,
   "id": "6d1f6486",
   "metadata": {},
   "outputs": [
    {
     "name": "stdout",
     "output_type": "stream",
     "text": [
      "Height of trapezoid: 6\n",
      "Base one value: 10\n",
      "Base two value: 5\n",
      "Area is: 45.0\n"
     ]
    }
   ],
   "source": [
    "#Write a Python program to calculate the area of a trapezoid\n",
    "height = float(input(\"Height of trapezoid: \"))\n",
    "base_1 = float(input('Base one value: '))\n",
    "base_2 = float(input('Base two value: '))\n",
    "area = ((base_1 + base_2) / 2) * height\n",
    "print(\"Area is:\", area)"
   ]
  },
  {
   "cell_type": "code",
   "execution_count": 16,
   "id": "968c14ff",
   "metadata": {},
   "outputs": [
    {
     "name": "stdout",
     "output_type": "stream",
     "text": [
      "Height of Parallelogram: 12\n",
      "Base value: 10\n",
      "Area of parallelogram: 120.0\n"
     ]
    }
   ],
   "source": [
    "#Write a Python program to calculate the area of a parallelogram \n",
    "height = float(input(\"Height of Parallelogram: \"))\n",
    "base = float(input('Base value: '))\n",
    "area=float(height*base)\n",
    "print(f\"Area of parallelogram: {area}\")"
   ]
  },
  {
   "cell_type": "code",
   "execution_count": 17,
   "id": "84b4dd2b",
   "metadata": {},
   "outputs": [
    {
     "name": "stdout",
     "output_type": "stream",
     "text": [
      "Height of cylinder: 4\n",
      "Radius of cylinder: 6\n",
      "Volume is:  452.57142857142856\n",
      "Surface Area is:  377.1428571428571\n"
     ]
    }
   ],
   "source": [
    "#Write a Python program to calculate surface volume and area of a cylinder\n",
    "pi=22/7\n",
    "height = float(input('Height of cylinder: '))\n",
    "radian = float(input('Radius of cylinder: '))\n",
    "volume = pi * radian * radian * height\n",
    "sur_area = ((2*pi*radian) * height) + ((pi*radian**2)*2)\n",
    "print(\"Volume is: \", volume)\n",
    "print(\"Surface Area is: \", sur_area)"
   ]
  },
  {
   "cell_type": "code",
   "execution_count": 36,
   "id": "788e0e75",
   "metadata": {},
   "outputs": [
    {
     "name": "stdout",
     "output_type": "stream",
     "text": [
      "Enter a number: 50\n",
      "1\n",
      "2\n",
      "5\n",
      "10\n",
      "25\n"
     ]
    }
   ],
   "source": [
    "#Write a Python program to returns sum of all divisors of a number\n",
    "num=int(input(\"Enter a number: \"))\n",
    "for i in range(1,num):\n",
    "    if num%i==0:\n",
    "       print(i)"
   ]
  },
  {
   "cell_type": "code",
   "execution_count": 8,
   "id": "ab444ed2",
   "metadata": {},
   "outputs": [],
   "source": [
    "#Write a Python program to find the maximum and minimum numbers from the specified decimal numbers"
   ]
  },
  {
   "cell_type": "code",
   "execution_count": 10,
   "id": "635d9f9a",
   "metadata": {},
   "outputs": [],
   "source": [
    "###Module – 4 4 (Advance python programming)"
   ]
  },
  {
   "cell_type": "code",
   "execution_count": null,
   "id": "0616a7b8",
   "metadata": {},
   "outputs": [],
   "source": []
  }
 ],
 "metadata": {
  "kernelspec": {
   "display_name": "Python 3 (ipykernel)",
   "language": "python",
   "name": "python3"
  },
  "language_info": {
   "codemirror_mode": {
    "name": "ipython",
    "version": 3
   },
   "file_extension": ".py",
   "mimetype": "text/x-python",
   "name": "python",
   "nbconvert_exporter": "python",
   "pygments_lexer": "ipython3",
   "version": "3.11.5"
  }
 },
 "nbformat": 4,
 "nbformat_minor": 5
}
